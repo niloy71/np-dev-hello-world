{
 "cells": [
  {
   "cell_type": "code",
   "execution_count": null,
   "metadata": {},
   "outputs": [],
   "source": [
    "#| default_exp test"
   ]
  },
  {
   "cell_type": "code",
   "execution_count": null,
   "metadata": {},
   "outputs": [],
   "source": [
    "import datetime\n"
   ]
  },
  {
   "cell_type": "code",
   "execution_count": null,
   "metadata": {},
   "outputs": [],
   "source": [
    "# import datetime\n",
    "\n",
    "# current_time = datetime.datetime.now()\n",
    "\n",
    "# print(\"Current time is:\", current_time)"
   ]
  },
  {
   "cell_type": "code",
   "execution_count": null,
   "metadata": {},
   "outputs": [],
   "source": [
    "\n",
    "import smtplib\n",
    "from email.mime.multipart import MIMEMultipart\n",
    "from email.mime.text import MIMEText\n",
    "\n",
    "def send_mail(to='niloy.shown+a1@gmail.com', subject='', body=''):\n",
    "    current_time = datetime.datetime.now()\n",
    "    body = f\"\"\"<div>This is for test mail form function {current_time}</div>\"\"\"\n",
    "\n",
    "\n",
    "\n",
    "    msg = MIMEMultipart()\n",
    "    msg['From'] = 'niloy.shown@gmail.com'\n",
    "    msg['To'] = to\n",
    "\n",
    "    smtp_server = 'smtp.gmail.com'\n",
    "    smtp_port = 587\n",
    "    username = 'niloy.shown@gmail.com'\n",
    "    password = 'xmkjodlqbzmkhmhb'\n",
    "\n",
    "    server = smtplib.SMTP(smtp_server, smtp_port)\n",
    "    server.starttls()\n",
    "    server.login(username, password)\n",
    "\n",
    "    msg['Subject'] = subject\n",
    "    msg.attach(MIMEText(body, 'html'))\n",
    "\n",
    "    server.sendmail(msg['From'], msg['To'], msg.as_string())\n",
    "    server.quit()"
   ]
  },
  {
   "cell_type": "code",
   "execution_count": null,
   "metadata": {},
   "outputs": [
    {
     "name": "stdout",
     "output_type": "stream",
     "text": [
      "Current time is: 2023-04-15 02:38:00.570298\n"
     ]
    }
   ],
   "source": [
    "\n",
    "\n",
    "current_time = datetime.datetime.now()\n",
    "\n",
    "print(\"Current time is:\", current_time)\n",
    "\n"
   ]
  },
  {
   "cell_type": "code",
   "execution_count": null,
   "metadata": {},
   "outputs": [],
   "source": [
    "\n",
    "body = f\"\"\"<div>This is for test schedule Mail {current_time}</div>\"\"\"\n",
    "print(body)\n",
    "print(body)\n",
    "# current_time = datetime.datetime.now()\n",
    "\n",
    "# print(\"Current time is:\", current_time)"
   ]
  },
  {
   "cell_type": "code",
   "execution_count": null,
   "metadata": {},
   "outputs": [],
   "source": [
    "# send_mail(to='niloy.shown+a1@gmail.com',\n",
    "#           subject=\"test Mail\")\n"
   ]
  }
 ],
 "metadata": {
  "kernelspec": {
   "display_name": "python3",
   "language": "python",
   "name": "python3"
  }
 },
 "nbformat": 4,
 "nbformat_minor": 2
}
