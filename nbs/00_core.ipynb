{
 "cells": [
  {
   "cell_type": "markdown",
   "metadata": {},
   "source": [
    "# Hello World!\n",
    "\n",
    "> Started with npdev"
   ]
  },
  {
   "cell_type": "code",
   "execution_count": 12,
   "metadata": {},
   "outputs": [],
   "source": [
    "#| default_exp core\n",
    "#| export\n",
    "def say_hello(to):\n",
    "    \"Say hello to somebody\"\n",
    "    return f'Hello {to}!'"
   ]
  },
  {
   "cell_type": "code",
   "execution_count": 13,
   "metadata": {},
   "outputs": [],
   "source": [
    "#| hide\n",
    "from nbdev.showdoc import *"
   ]
  },
  {
   "cell_type": "code",
   "execution_count": 14,
   "metadata": {},
   "outputs": [],
   "source": [
    "#| export\n",
    "def foo(): pass"
   ]
  },
  {
   "cell_type": "code",
   "execution_count": 15,
   "metadata": {},
   "outputs": [],
   "source": [
    "#| hide\n",
    "import nbdev; nbdev.nbdev_export()"
   ]
  },
  {
   "cell_type": "code",
   "execution_count": 16,
   "metadata": {},
   "outputs": [
    {
     "data": {
      "text/plain": [
       "'Hello Isaac!'"
      ]
     },
     "execution_count": 16,
     "metadata": {},
     "output_type": "execute_result"
    }
   ],
   "source": [
    "#| export\n",
    "say_hello(\"Isaac\")"
   ]
  },
  {
   "cell_type": "code",
   "execution_count": null,
   "metadata": {},
   "outputs": [
    {
     "name": "stdout",
     "output_type": "stream",
     "text": [
      "Current time is: 2023-03-28 20:09:12.644265\n"
     ]
    }
   ],
   "source": [
    "import datetime\n",
    "\n",
    "current_time = datetime.datetime.now()\n",
    "\n",
    "print(\"Current time is:\", current_time)"
   ]
  },
  {
   "cell_type": "code",
   "execution_count": null,
   "metadata": {},
   "outputs": [
    {
     "data": {
      "text/html": [
       "<div>\n",
       "<style scoped>\n",
       "    .dataframe tbody tr th:only-of-type {\n",
       "        vertical-align: middle;\n",
       "    }\n",
       "\n",
       "    .dataframe tbody tr th {\n",
       "        vertical-align: top;\n",
       "    }\n",
       "\n",
       "    .dataframe thead th {\n",
       "        text-align: right;\n",
       "    }\n",
       "</style>\n",
       "<table border=\"1\" class=\"dataframe\">\n",
       "  <thead>\n",
       "    <tr style=\"text-align: right;\">\n",
       "      <th></th>\n",
       "      <th>Name</th>\n",
       "      <th>Age</th>\n",
       "    </tr>\n",
       "  </thead>\n",
       "  <tbody>\n",
       "    <tr>\n",
       "      <th>0</th>\n",
       "      <td>Alice</td>\n",
       "      <td>25</td>\n",
       "    </tr>\n",
       "    <tr>\n",
       "      <th>1</th>\n",
       "      <td>Bob</td>\n",
       "      <td>30</td>\n",
       "    </tr>\n",
       "    <tr>\n",
       "      <th>2</th>\n",
       "      <td>Charlie</td>\n",
       "      <td>35</td>\n",
       "    </tr>\n",
       "  </tbody>\n",
       "</table>\n",
       "</div>"
      ],
      "text/plain": [
       "      Name  Age\n",
       "0    Alice   25\n",
       "1      Bob   30\n",
       "2  Charlie   35"
      ]
     },
     "metadata": {},
     "output_type": "display_data"
    }
   ],
   "source": [
    "import smtplib\n",
    "from email.mime.multipart import MIMEMultipart\n",
    "from email.mime.text import MIMEText\n",
    "import pandas as pd\n",
    "\n",
    "# Create a Pandas DataFrame with some data\n",
    "data = {'Name': ['Alice', 'Bob', 'Charlie'],\n",
    "        'Age': [25, 30, 35]}\n",
    "df = pd.DataFrame(data)\n",
    "\n",
    "display(df)"
   ]
  },
  {
   "cell_type": "code",
   "execution_count": null,
   "metadata": {},
   "outputs": [],
   "source": [
    "# # Convert the DataFrame to an HTML table\n",
    "# table_html = df.to_html()\n",
    "\n",
    "# # Set up the email message\n",
    "# msg = MIMEMultipart()\n",
    "# msg['From'] = 'aragron.aragon@gmail.com'\n",
    "# msg['To'] = 'niloyrashid71@gmail.com'\n",
    "# msg['Subject'] = 'Table from Pandas DataFrame'\n",
    "\n",
    "# # Add the HTML table to the email message\n",
    "# msg.attach(MIMEText(table_html, 'html'))\n",
    "\n",
    "# # Connect to the SMTP server and send the email\n",
    "# smtp_server = 'smtp.gmail.com'\n",
    "# smtp_port = 587\n",
    "# username = 'aragron.aragon@gmail.com'\n",
    "# password = 'owdcsemibedvfhjs'\n",
    "# print(username, password)\n",
    "# server = smtplib.SMTP(smtp_server, smtp_port)\n",
    "# server.starttls()\n",
    "# server.login(username, password)\n",
    "# server.sendmail(msg['From'], msg['To'], msg.as_string())\n",
    "# server.quit()"
   ]
  },
  {
   "cell_type": "code",
   "execution_count": null,
   "metadata": {},
   "outputs": [
    {
     "data": {
      "text/markdown": [
       "*some markdown* $\\phi$"
      ],
      "text/plain": [
       "<IPython.core.display.Markdown object>"
      ]
     },
     "metadata": {},
     "output_type": "display_data"
    },
    {
     "data": {
      "text/latex": [
       "\\phi"
      ],
      "text/plain": [
       "<IPython.core.display.Latex object>"
      ]
     },
     "metadata": {},
     "output_type": "display_data"
    }
   ],
   "source": [
    "from IPython.display import display, Markdown, Latex\n",
    "display(Markdown('*some markdown* $\\phi$'))\n",
    "# If you particularly want to display maths, this is more direct:\n",
    "display(Latex('\\phi'))"
   ]
  },
  {
   "cell_type": "code",
   "execution_count": null,
   "metadata": {},
   "outputs": [
    {
     "data": {
      "text/plain": [
       "'<p># heading\\n- ordered\\n- list</p>\\n<p>The table below:</p>\\n<p>| id |value|\\n|:---|----:|\\n| a  |  1  |\\n| b  |  2  |</p>'"
      ]
     },
     "metadata": {},
     "output_type": "display_data"
    },
    {
     "name": "stdout",
     "output_type": "stream",
     "text": [
      "<p># heading\n",
      "- ordered\n",
      "- list</p>\n",
      "<p>The table below:</p>\n",
      "<p>| id |value|\n",
      "|:---|----:|\n",
      "| a  |  1  |\n",
      "| b  |  2  |</p>\n"
     ]
    },
    {
     "data": {
      "text/plain": [
       "'<p># heading- ordered- list</p><p>The table below:</p><p>| id |value||:---|----:|| a  |  1  || b  |  2  |</p>'"
      ]
     },
     "metadata": {},
     "output_type": "display_data"
    },
    {
     "data": {
      "text/markdown": [
       "\n",
       " # heading\n",
       "- ordered\n",
       "- list\n",
       "\n",
       "The table below:\n",
       "\n",
       "| id |value|\n",
       "|:---|----:|\n",
       "| a  |  1  |\n",
       "| b  |  2  |\n"
      ]
     },
     "metadata": {},
     "output_type": "display_data"
    }
   ],
   "source": [
    "from IPython.display import display_markdown\n",
    "import markdown\n",
    "\n",
    "md = '''\n",
    " # heading\n",
    "- ordered\n",
    "- list\n",
    "\n",
    "The table below:\n",
    "\n",
    "| id |value|\n",
    "|:---|----:|\n",
    "| a  |  1  |\n",
    "| b  |  2  |\n",
    "'''\n",
    "\n",
    "md_html = markdown.markdown(md)\n",
    "display(md_html)\n",
    "print(md_html)\n",
    "new_html = md_html.replace(\"\\n\", \"\" )\n",
    "display(new_html)\n",
    "\n",
    "display_markdown(md, raw=True)"
   ]
  },
  {
   "cell_type": "code",
   "execution_count": null,
   "metadata": {},
   "outputs": [
    {
     "name": "stdout",
     "output_type": "stream",
     "text": [
      "<h2>heading</h2>\n",
      "<ul>\n",
      "<li>ordered</li>\n",
      "<li>list</li>\n",
      "</ul>\n",
      "<p>The table below:</p>\n",
      "<p>| id |value|\n",
      "|:---|----:|\n",
      "| a  |  1  |\n",
      "| b  |  2  |</p>\n"
     ]
    }
   ],
   "source": [
    "a = '''\n",
    "## heading\n",
    "- ordered\n",
    "- list\n",
    "\n",
    "The table below:\n",
    "\n",
    "| id |value|\n",
    "|:---|----:|\n",
    "| a  |  1  |\n",
    "| b  |  2  |\n",
    "'''\n",
    "\n",
    "tempHTML = markdown.markdown(md)\n",
    "print(tempHTML)\n",
    "\n"
   ]
  },
  {
   "cell_type": "code",
   "execution_count": null,
   "metadata": {},
   "outputs": [
    {
     "data": {
      "text/plain": [
       "'<h2>heading</h2>\\n<ul>\\n<li>ordered</li>\\n<li>list</li>\\n</ul>\\n<p>The table below:</p>\\n<p>| id |value|\\n|:---|----:|\\n| a  |  1  |\\n| b  |  2  |</p>'"
      ]
     },
     "metadata": {},
     "output_type": "display_data"
    },
    {
     "data": {
      "text/markdown": [
       "## heading\n",
       "- ordered\n",
       "- list\n",
       "\n",
       "The table below:\n",
       "\n",
       "| id |value|\n",
       "|:---|----:|\n",
       "| a  |  1  |\n",
       "| b  |  2  |\n"
      ]
     },
     "metadata": {},
     "output_type": "display_data"
    }
   ],
   "source": [
    "from IPython.display import display_markdown\n",
    "import markdown\n",
    "\n",
    "md = '''## heading\n",
    "- ordered\n",
    "- list\n",
    "\n",
    "The table below:\n",
    "\n",
    "| id |value|\n",
    "|:---|----:|\n",
    "| a  |  1  |\n",
    "| b  |  2  |\n",
    "'''\n",
    "\n",
    "md_html = markdown.markdown(md)\n",
    "display(md_html)\n",
    "display_markdown(md, raw=True)"
   ]
  },
  {
   "cell_type": "code",
   "execution_count": null,
   "metadata": {},
   "outputs": [],
   "source": []
  },
  {
   "cell_type": "code",
   "execution_count": null,
   "metadata": {},
   "outputs": [],
   "source": []
  }
 ],
 "metadata": {
  "kernelspec": {
   "display_name": "python3",
   "language": "python",
   "name": "python3"
  },
  "language_info": {
   "codemirror_mode": {
    "name": "ipython",
    "version": 3
   },
   "file_extension": ".py",
   "mimetype": "text/x-python",
   "name": "python",
   "nbconvert_exporter": "python",
   "pygments_lexer": "ipython3",
   "version": "3.8.10"
  }
 },
 "nbformat": 4,
 "nbformat_minor": 4
}
